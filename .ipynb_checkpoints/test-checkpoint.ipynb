{
 "cells": [
  {
   "cell_type": "code",
   "execution_count": null,
   "metadata": {},
   "outputs": [],
   "source": [
    "import pandas as pd\n",
    "from langdetect import detect\n",
    "\n",
    "def detect_en_lang(title, description):\n",
    "    try:\n",
    "        return detect(title) == 'en' and detect(description) == 'en'\n",
    "    except:\n",
    "        return False\n",
    "\n",
    "    \n",
    "cavideos = pd.read_csv('dataset/CAvideos.csv')\n",
    "devideos = pd.read_csv('dataset/DEvideos.csv')\n",
    "frvideos = pd.read_csv('dataset/FRvideos.csv')\n",
    "gbvideos = pd.read_csv('dataset/GBvideos.csv')\n",
    "usvideos = pd.read_csv('dataset/USvideos.csv')\n",
    "dataset = pd.DataFrame()\n",
    "dataset = dataset.append(cavideos).append(devideos).append(frvideos).append(gbvideos).append(usvideos)\n",
    "# dataset = dataset[dataset.apply(lambda x: detect_en_lang(str(x['title']), str(x['description'])), axis=1)]\n",
    "dataset.count()"
   ]
  },
  {
   "cell_type": "code",
   "execution_count": 28,
   "metadata": {},
   "outputs": [
    {
     "data": {
      "text/plain": [
       "'en'"
      ]
     },
     "execution_count": 28,
     "metadata": {},
     "output_type": "execute_result"
    }
   ],
   "source": [
    "from langdetect import detect\n",
    "detect(\"War doesn't show who's right, just who's left.\")"
   ]
  },
  {
   "cell_type": "code",
   "execution_count": 26,
   "metadata": {},
   "outputs": [
    {
     "data": {
      "text/plain": [
       "video_id                  29340\n",
       "trending_date             29340\n",
       "title                     29340\n",
       "channel_title             29340\n",
       "category_id               29340\n",
       "publish_time              29340\n",
       "tags                      29340\n",
       "views                     29340\n",
       "likes                     29340\n",
       "dislikes                  29340\n",
       "comment_count             29340\n",
       "thumbnail_link            29340\n",
       "comments_disabled         29340\n",
       "ratings_disabled          29340\n",
       "video_error_or_removed    29340\n",
       "description               28219\n",
       "dtype: int64"
      ]
     },
     "execution_count": 26,
     "metadata": {},
     "output_type": "execute_result"
    }
   ],
   "source": [
    "dataset = pd.DataFrame()\n",
    "data = pd.read_csv('dataset/DEvideos.csv')\n",
    "dataset = dataset.append(data)\n",
    "dataset.count()"
   ]
  },
  {
   "cell_type": "code",
   "execution_count": 20,
   "metadata": {},
   "outputs": [
    {
     "data": {
      "text/html": [
       "<div>\n",
       "<style scoped>\n",
       "    .dataframe tbody tr th:only-of-type {\n",
       "        vertical-align: middle;\n",
       "    }\n",
       "\n",
       "    .dataframe tbody tr th {\n",
       "        vertical-align: top;\n",
       "    }\n",
       "\n",
       "    .dataframe thead th {\n",
       "        text-align: right;\n",
       "    }\n",
       "</style>\n",
       "<table border=\"1\" class=\"dataframe\">\n",
       "  <thead>\n",
       "    <tr style=\"text-align: right;\">\n",
       "      <th></th>\n",
       "      <th>A</th>\n",
       "    </tr>\n",
       "  </thead>\n",
       "  <tbody>\n",
       "    <tr>\n",
       "      <th>0</th>\n",
       "      <td>0</td>\n",
       "    </tr>\n",
       "    <tr>\n",
       "      <th>1</th>\n",
       "      <td>1</td>\n",
       "    </tr>\n",
       "    <tr>\n",
       "      <th>2</th>\n",
       "      <td>2</td>\n",
       "    </tr>\n",
       "  </tbody>\n",
       "</table>\n",
       "</div>"
      ],
      "text/plain": [
       "   A\n",
       "0  0\n",
       "1  1\n",
       "2  2"
      ]
     },
     "execution_count": 20,
     "metadata": {},
     "output_type": "execute_result"
    }
   ],
   "source": [
    "df = pd.DataFrame()\n",
    "data = pd.DataFrame({\"A\": range(3)})\n",
    "df.append(data)"
   ]
  },
  {
   "cell_type": "code",
   "execution_count": 22,
   "metadata": {},
   "outputs": [
    {
     "data": {
      "text/plain": [
       "video_id                  29340\n",
       "trending_date             29340\n",
       "title                     29340\n",
       "channel_title             29340\n",
       "category_id               29340\n",
       "publish_time              29340\n",
       "tags                      29340\n",
       "views                     29340\n",
       "likes                     29340\n",
       "dislikes                  29340\n",
       "comment_count             29340\n",
       "thumbnail_link            29340\n",
       "comments_disabled         29340\n",
       "ratings_disabled          29340\n",
       "video_error_or_removed    29340\n",
       "description               28219\n",
       "dtype: int64"
      ]
     },
     "execution_count": 22,
     "metadata": {},
     "output_type": "execute_result"
    }
   ],
   "source": []
  },
  {
   "cell_type": "code",
   "execution_count": null,
   "metadata": {},
   "outputs": [],
   "source": []
  }
 ],
 "metadata": {
  "kernelspec": {
   "display_name": "Python 3",
   "language": "python",
   "name": "python3"
  },
  "language_info": {
   "codemirror_mode": {
    "name": "ipython",
    "version": 3
   },
   "file_extension": ".py",
   "mimetype": "text/x-python",
   "name": "python",
   "nbconvert_exporter": "python",
   "pygments_lexer": "ipython3",
   "version": "3.6.5"
  }
 },
 "nbformat": 4,
 "nbformat_minor": 2
}
